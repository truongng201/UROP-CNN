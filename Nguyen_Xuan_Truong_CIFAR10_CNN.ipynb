{
  "cells": [
    {
      "cell_type": "markdown",
      "metadata": {
        "id": "wLEzRzbuRlc1"
      },
      "source": [
        "# Classification task using pytorch with CIFAR-10 Dataset"
      ]
    },
    {
      "cell_type": "code",
      "execution_count": 176,
      "metadata": {
        "colab": {
          "base_uri": "https://localhost:8080/"
        },
        "id": "JlCl0PRmsnp5",
        "outputId": "a71d1cd9-450d-4a96-f10a-29ff827e68b7"
      },
      "outputs": [
        {
          "output_type": "stream",
          "name": "stdout",
          "text": [
            "Sat Nov 18 05:50:01 2023       \n",
            "+-----------------------------------------------------------------------------+\n",
            "| NVIDIA-SMI 525.105.17   Driver Version: 525.105.17   CUDA Version: 12.0     |\n",
            "|-------------------------------+----------------------+----------------------+\n",
            "| GPU  Name        Persistence-M| Bus-Id        Disp.A | Volatile Uncorr. ECC |\n",
            "| Fan  Temp  Perf  Pwr:Usage/Cap|         Memory-Usage | GPU-Util  Compute M. |\n",
            "|                               |                      |               MIG M. |\n",
            "|===============================+======================+======================|\n",
            "|   0  Tesla T4            Off  | 00000000:00:04.0 Off |                    0 |\n",
            "| N/A   63C    P0    29W /  70W |   1749MiB / 15360MiB |      0%      Default |\n",
            "|                               |                      |                  N/A |\n",
            "+-------------------------------+----------------------+----------------------+\n",
            "                                                                               \n",
            "+-----------------------------------------------------------------------------+\n",
            "| Processes:                                                                  |\n",
            "|  GPU   GI   CI        PID   Type   Process name                  GPU Memory |\n",
            "|        ID   ID                                                   Usage      |\n",
            "|=============================================================================|\n",
            "+-----------------------------------------------------------------------------+\n"
          ]
        }
      ],
      "source": [
        "!nvidia-smi"
      ]
    },
    {
      "cell_type": "markdown",
      "metadata": {
        "id": "FfniDAV1tSsc"
      },
      "source": [
        "### I. Set up"
      ]
    },
    {
      "cell_type": "markdown",
      "metadata": {
        "id": "MBor1Polt28V"
      },
      "source": [
        "##### Import neccessary libraries and modules"
      ]
    },
    {
      "cell_type": "code",
      "execution_count": 177,
      "metadata": {
        "id": "swCzepgMSGbR"
      },
      "outputs": [],
      "source": [
        "import numpy as np\n",
        "\n",
        "import matplotlib\n",
        "import matplotlib.pyplot as plt\n",
        "from matplotlib.pyplot import figure\n",
        "\n",
        "import torch\n",
        "import torch.nn as nn\n",
        "import torch.nn.functional as F\n",
        "import torch.optim as optim\n",
        "import torchvision\n",
        "import torchvision.transforms as transforms\n",
        "from torch.utils.data import DataLoader, random_split\n",
        "from torchvision.datasets import CIFAR10\n",
        "from torchsummary import summary"
      ]
    },
    {
      "cell_type": "markdown",
      "metadata": {
        "id": "R80-NBtSaFWi"
      },
      "source": [
        "##### Setting cuda device for pytorch"
      ]
    },
    {
      "cell_type": "code",
      "execution_count": 178,
      "metadata": {
        "colab": {
          "base_uri": "https://localhost:8080/"
        },
        "id": "AyXOKkdFaKJD",
        "outputId": "88c79a27-26e5-441a-d2ce-7dcab82a702a"
      },
      "outputs": [
        {
          "output_type": "stream",
          "name": "stdout",
          "text": [
            "cuda:0\n"
          ]
        }
      ],
      "source": [
        "device = torch.device(\"cuda:0\" if torch.cuda.is_available() else \"cpu\")\n",
        "print(device)"
      ]
    },
    {
      "cell_type": "markdown",
      "metadata": {
        "id": "xf5HalPbSbiU"
      },
      "source": [
        "##### Pre-download CIFAR10 dataset"
      ]
    },
    {
      "cell_type": "code",
      "execution_count": 179,
      "metadata": {
        "colab": {
          "base_uri": "https://localhost:8080/"
        },
        "id": "KMgWzmwYtRhf",
        "outputId": "56f853d1-6395-435a-d23f-5a4c831b4621"
      },
      "outputs": [
        {
          "output_type": "stream",
          "name": "stdout",
          "text": [
            "Directory data already exists.\n"
          ]
        },
        {
          "output_type": "execute_result",
          "data": {
            "text/plain": []
          },
          "metadata": {},
          "execution_count": 179
        }
      ],
      "source": [
        "%%shell\n",
        "\n",
        "DATA_DIR='data'\n",
        "\n",
        "if [ ! -d $DATA_DIR ]; then\n",
        "  mkdir $DATA_DIR\n",
        "  cd /content/data\n",
        "  wget https://www.cs.toronto.edu/~kriz/cifar-10-python.tar.gz\n",
        "  tar -xzvf cifar-10-python.tar.gz\n",
        "  rm -f cifar-10-python.tar.gz\n",
        "else\n",
        "  echo \"Directory $DATA_DIR already exists.\"\n",
        "fi"
      ]
    },
    {
      "cell_type": "markdown",
      "metadata": {
        "id": "20JKr650TXxF"
      },
      "source": [
        "### II. Data preparation and preprocessing\n"
      ]
    },
    {
      "cell_type": "markdown",
      "metadata": {
        "id": "HJOUnIObUc1P"
      },
      "source": [
        "##### Class called `Dataset` that is designed to handle the loading and processing of a dataset, specifically for the CIFAR-10 dataset. CIFAR-10 is a dataset of 60,000 32x32 color images in 10 different classes."
      ]
    },
    {
      "cell_type": "markdown",
      "metadata": {
        "id": "y_FQ_CcRVNMC"
      },
      "source": [
        "1. **Initialization (`__init__` method):**\n",
        "   - The class has an `__init__` method, which initializes some attributes of the class.\n",
        "   - It sets up a data transformation using the `transforms.Compose` class from the `torchvision.transforms` module. This transformation includes converting images to tensors and normalizing them.\n",
        "   - It initializes attributes for training, validation, and test datasets, as well as corresponding data loaders, all set to `None` initially.\n",
        "\n",
        "2. **Loading Datasets (`__load_dataset` method):**\n",
        "   - There is a private method named `__load_dataset` that initializes the training and test datasets using the CIFAR-10 dataset. The CIFAR-10 dataset is a dataset of 60,000 32x32 color images in 10 different classes, with 6,000 images per class.\n",
        "   - The method takes a `data_dir` parameter, which is the directory where the dataset is located.\n",
        "\n",
        "3. **Splitting the Training Dataset (`__split_train_dataset` method):**\n",
        "   - Another private method, `__split_train_dataset`, is responsible for splitting the training dataset into training and validation sets. It uses the `random_split` function from PyTorch to achieve this.\n",
        "\n",
        "4. **Getting Dataset Shape (`__get_shape` method):**\n",
        "   - There's a method named `__get_shape` that takes a dataset loader as a parameter and returns the shape of the input and label tensors for the first batch. It converts the tensors to NumPy arrays before retrieving their shapes.\n",
        "\n",
        "5. **Creating Data Loaders (`__data_loader` method):**\n",
        "   - The `__data_loader` method sets up data loaders for the training, validation, and test datasets using the `DataLoader` class from PyTorch.\n",
        "\n",
        "6. **Displaying Dataset Information (`__dataset_info` method):**\n",
        "   - The `__dataset_info` method prints information about the datasets, such as class names, sizes, batch sizes, and input/label shapes.\n",
        "\n",
        "7. **Execution Method (`execute` method):**\n",
        "   - The `execute` method is intended to be called to perform the complete setup and information retrieval. It takes parameters for the data directory (`data_dir`), batch size, and validation split.\n",
        "   - It calls the private methods in sequence to load the dataset, split it, create data loaders, display dataset information, and finally returns the training, validation, and test data loaders."
      ]
    },
    {
      "cell_type": "code",
      "execution_count": 180,
      "metadata": {
        "id": "DZ5UUUIvT1EO"
      },
      "outputs": [],
      "source": [
        "class Dataset:\n",
        "    def __init__(self):\n",
        "        self.transform = transforms.Compose([\n",
        "            transforms.ToTensor(),\n",
        "            transforms.Normalize((0.5,0.5,0.5), (0.5,0.5,0.5))\n",
        "        ])\n",
        "\n",
        "        self.train_dataset = None\n",
        "        self.val_dataset = None\n",
        "        self.test_dataset = None\n",
        "\n",
        "        self.train_loader = None\n",
        "        self.val_loader = None\n",
        "        self.test_loader = None\n",
        "\n",
        "\n",
        "    def __load_dataset(self, data_dir):\n",
        "        self.train_dataset = CIFAR10(\n",
        "            root=data_dir,\n",
        "            train=True,\n",
        "            download=False,\n",
        "            transform=self.transform\n",
        "        )\n",
        "        self.test_dataset = CIFAR10(\n",
        "            root=data_dir,\n",
        "            train=False,\n",
        "            download=False,\n",
        "            transform=self.transform\n",
        "        )\n",
        "\n",
        "\n",
        "    def __split_train_dataset(self, val_split):\n",
        "        val_size = int(val_split * len(self.train_dataset))\n",
        "        train_size = int((1 - val_split) * len(self.train_dataset))\n",
        "\n",
        "        self.train_dataset, self.val_dataset = random_split(\n",
        "            self.train_dataset, [train_size, val_size]\n",
        "        )\n",
        "\n",
        "\n",
        "    def __get_shape(self, dataset_loader):\n",
        "        for idx, (inputs, labels) in enumerate(dataset_loader):\n",
        "          inputs = np.array(inputs)\n",
        "          labels = np.array(labels)\n",
        "          return inputs.shape, labels.shape\n",
        "\n",
        "\n",
        "    def __data_loader(self, batch_size, num_workers):\n",
        "        self.train_loader = DataLoader(\n",
        "            dataset=self.train_dataset,\n",
        "            batch_size=batch_size,\n",
        "            num_workers=num_workers,\n",
        "            shuffle=True\n",
        "        )\n",
        "        self.val_loader = DataLoader(\n",
        "            dataset=self.val_dataset,\n",
        "            batch_size=batch_size,\n",
        "            num_workers=num_workers,\n",
        "            shuffle=False\n",
        "        )\n",
        "        self.test_loader = DataLoader(\n",
        "            dataset=self.test_dataset,\n",
        "            batch_size=batch_size,\n",
        "            num_workers=num_workers,\n",
        "            shuffle=False\n",
        "        )\n",
        "\n",
        "\n",
        "    def __dataset_info(self):\n",
        "        print(\"-\"*50)\n",
        "        print(\"--------------- Dataset Information --------------\")\n",
        "        print(\"-\"*50)\n",
        "        print(f\"All classes : {self.test_dataset.classes}\")\n",
        "        print(\"       -----------------------------------       \")\n",
        "        print(f\"Train dataset size: {len(self.train_loader.dataset)}\")\n",
        "        print(f\"Train batch size: {self.train_loader.batch_size}\")\n",
        "        print(f\"Train input shape: {self.__get_shape(self.train_loader)[0]}\")\n",
        "        print(f\"Train label shape: {self.__get_shape(self.train_loader)[1]}\")\n",
        "        print(\"       -----------------------------------       \")\n",
        "        print(f\"Validation dataset size: {len(self.val_loader.dataset)}\")\n",
        "        print(f\"Validation batch size: {self.val_loader.batch_size}\")\n",
        "        print(f\"Validation input shape: {self.__get_shape(self.val_loader)[0]}\")\n",
        "        print(f\"Validation label shape: {self.__get_shape(self.val_loader)[1]}\")\n",
        "        print(\"       -----------------------------------       \")\n",
        "        print(f\"Test dataset size: {len(self.test_loader.dataset)}\")\n",
        "        print(f\"Test batch size: {self.test_loader.batch_size}\")\n",
        "        print(f\"Test input shape: {self.__get_shape(self.test_loader)[0]}\")\n",
        "        print(f\"Test label shape: {self.__get_shape(self.test_loader)[1]}\")\n",
        "        print(\"-\"*50)\n",
        "        print(\"-\"*50)\n",
        "        print(\"-\"*50)\n",
        "        print()\n",
        "        print()\n",
        "\n",
        "\n",
        "    def execute(self, data_dir='./data', batch_size=128, val_split=0.1, num_workers=2):\n",
        "        self.__load_dataset(data_dir)\n",
        "        self.__split_train_dataset(val_split)\n",
        "        self.__data_loader(batch_size, num_workers)\n",
        "        self.__dataset_info()\n",
        "        data_loader = (self.train_loader, self.val_loader, self.test_loader)\n",
        "        data_size = (len(self.train_loader.dataset), len(self.val_loader.dataset), len(self.test_loader.dataset))\n",
        "        return data_size, data_loader"
      ]
    },
    {
      "cell_type": "markdown",
      "metadata": {
        "id": "UcPkFlOfW9L2"
      },
      "source": [
        "##### Create an instance of dataset and run the `execute method`. The method returns the training, validation, and test data loaders"
      ]
    },
    {
      "cell_type": "code",
      "execution_count": 181,
      "metadata": {
        "colab": {
          "base_uri": "https://localhost:8080/"
        },
        "id": "q6y_7FPZW-Tj",
        "outputId": "cc9e6371-937f-4b44-cdc7-2b27e0b36cf1"
      },
      "outputs": [
        {
          "output_type": "stream",
          "name": "stdout",
          "text": [
            "--------------------------------------------------\n",
            "--------------- Dataset Information --------------\n",
            "--------------------------------------------------\n",
            "All classes : ['airplane', 'automobile', 'bird', 'cat', 'deer', 'dog', 'frog', 'horse', 'ship', 'truck']\n",
            "       -----------------------------------       \n",
            "Train dataset size: 45000\n",
            "Train batch size: 128\n",
            "Train input shape: (128, 3, 32, 32)\n",
            "Train label shape: (128,)\n",
            "       -----------------------------------       \n",
            "Validation dataset size: 5000\n",
            "Validation batch size: 128\n",
            "Validation input shape: (128, 3, 32, 32)\n",
            "Validation label shape: (128,)\n",
            "       -----------------------------------       \n",
            "Test dataset size: 10000\n",
            "Test batch size: 128\n",
            "Test input shape: (128, 3, 32, 32)\n",
            "Test label shape: (128,)\n",
            "--------------------------------------------------\n",
            "--------------------------------------------------\n",
            "--------------------------------------------------\n",
            "\n",
            "\n"
          ]
        }
      ],
      "source": [
        "dataset = Dataset()\n",
        "(train_size, val_size, test_size ),(train_loader, val_loader, test_loader) = dataset.execute()"
      ]
    },
    {
      "cell_type": "markdown",
      "metadata": {
        "id": "bzcogLIfXhJ0"
      },
      "source": [
        "### III/ Create model"
      ]
    },
    {
      "cell_type": "markdown",
      "metadata": {
        "id": "FoiBrgvYaZFt"
      },
      "source": [
        "##### Create a convolutional neural network (CNN) using PyTorch's `nn.Module` class. The network consists of convolutional layers, activation functions (ReLU), max-pooling layers, and fully connected (linear) layers."
      ]
    },
    {
      "cell_type": "markdown",
      "metadata": {
        "id": "JU6Bhz3rcJSs"
      },
      "source": [
        "1. **Convolutional Layers (First Block):**\n",
        "   - Input: 3 channels (for RGB images).\n",
        "   - First convolutional layer: 3 input channels, 32 output channels, 3x3 kernel, padding of 1.\n",
        "   - ReLU activation function.\n",
        "   - Second convolutional layer: 32 input channels, 64 output channels, 3x3 kernel, stride of 1, padding of 1.\n",
        "   - ReLU activation function.\n",
        "   - Max pooling layer with a 2x2 kernel and stride of 2, reducing spatial dimensions by half.\n",
        "   - Output size after this block: 64 channels, 16x16 spatial dimensions.\n",
        "\n",
        "2. **Convolutional Layers (Second Block):**\n",
        "   - Third convolutional layer: 64 input channels, 128 output channels, 3x3 kernel, stride of 1, padding of 1.\n",
        "   - ReLU activation function.\n",
        "   - Fourth convolutional layer: 128 input channels, 128 output channels, 3x3 kernel, stride of 1, padding of 1.\n",
        "   - ReLU activation function.\n",
        "   - Max pooling layer with a 2x2 kernel and stride of 2, reducing spatial dimensions by half.\n",
        "   - Output size after this block: 128 channels, 8x8 spatial dimensions.\n",
        "\n",
        "3. **Convolutional Layers (Third Block):**\n",
        "   - Fifth convolutional layer: 128 input channels, 256 output channels, 3x3 kernel, stride of 1, padding of 1.\n",
        "   - ReLU activation function.\n",
        "   - Sixth convolutional layer: 256 input channels, 256 output channels, 3x3 kernel, stride of 1, padding of 1.\n",
        "   - ReLU activation function.\n",
        "   - Max pooling layer with a 2x2 kernel and stride of 2, reducing spatial dimensions by half.\n",
        "   - Output size after this block: 256 channels, 4x4 spatial dimensions.\n",
        "\n",
        "4. **Fully Connected Layers:**\n",
        "   - `nn.Flatten()` is used to flatten the spatial dimensions into a 1D tensor.\n",
        "   - `nn.Dropout()` is used to dropout some paramters to reduce the overfitting effect\n",
        "   - First fully connected layer: 256 * 4 * 4 input features, 1024 output features.\n",
        "   - ReLU activation function.\n",
        "   - `nn.Dropout()` is used to dropout some paramters to reduce the overfitting effect\n",
        "   - Second fully connected layer: 1024 input features, 512 output features.\n",
        "   - ReLU activation function.\n",
        "   - `nn.Dropout()` is used to dropout some paramters to reduce the overfitting effect\n",
        "   - Third fully connected layer: 512 input features, 10 output features (for classification into 10 classes).\n",
        "\n",
        "5. **Forward Method:**\n",
        "   - The `forward` method defines the forward pass of the network. It applies the layers defined in the constructor in sequence to the input `x`."
      ]
    },
    {
      "cell_type": "code",
      "execution_count": 182,
      "metadata": {
        "id": "0tXU-jriXlIp"
      },
      "outputs": [],
      "source": [
        "class Net(nn.Module):\n",
        "    def __init__(self):\n",
        "        super(Net, self).__init__()\n",
        "        self.network = nn.Sequential(\n",
        "            # Convolutional Layers (First Block)\n",
        "            nn.Conv2d(3, 32, kernel_size=3, padding=1),\n",
        "            nn.ReLU(),\n",
        "            nn.Conv2d(32, 64, kernel_size=3, stride=1, padding=1),\n",
        "            nn.ReLU(),\n",
        "            nn.MaxPool2d(2, 2), # output: 64 x 16 x 16\n",
        "\n",
        "            # Convolutional Layers (Second Block)\n",
        "            nn.Conv2d(64, 128, kernel_size=3, stride=1, padding=1),\n",
        "            nn.ReLU(),\n",
        "            nn.Conv2d(128, 128, kernel_size=3, stride=1, padding=1),\n",
        "            nn.ReLU(),\n",
        "            nn.MaxPool2d(2, 2), # output: 128 x 8 x 8\n",
        "\n",
        "            # Convolutional Layers (Third Block)\n",
        "            nn.Conv2d(128, 256, kernel_size=3, stride=1, padding=1),\n",
        "            nn.ReLU(),\n",
        "            nn.Conv2d(256, 256, kernel_size=3, stride=1, padding=1),\n",
        "            nn.ReLU(),\n",
        "            nn.MaxPool2d(2, 2), # output: 256 x 4 x 4\n",
        "\n",
        "            # Fully connected layers\n",
        "            nn.Flatten(),\n",
        "            nn.Dropout(),\n",
        "            nn.Linear(256*4*4, 1024),\n",
        "            nn.ReLU(),\n",
        "            nn.Dropout(),\n",
        "            nn.Linear(1024, 512),\n",
        "            nn.ReLU(),\n",
        "            nn.Dropout(),\n",
        "            nn.Linear(512, 10)\n",
        "        )\n",
        "\n",
        "\n",
        "    def forward(self, x):\n",
        "        return self.network(x)"
      ]
    },
    {
      "cell_type": "markdown",
      "metadata": {
        "id": "GBtONOUXbGs1"
      },
      "source": [
        "##### Show summary of the model"
      ]
    },
    {
      "cell_type": "code",
      "execution_count": 183,
      "metadata": {
        "colab": {
          "base_uri": "https://localhost:8080/"
        },
        "id": "qRHlsAI0YBfb",
        "outputId": "4d1ce3fc-2969-43ea-f85d-5c56c43249d2"
      },
      "outputs": [
        {
          "output_type": "stream",
          "name": "stdout",
          "text": [
            "----------------------------------------------------------------\n",
            "        Layer (type)               Output Shape         Param #\n",
            "================================================================\n",
            "            Conv2d-1           [-1, 32, 32, 32]             896\n",
            "              ReLU-2           [-1, 32, 32, 32]               0\n",
            "            Conv2d-3           [-1, 64, 32, 32]          18,496\n",
            "              ReLU-4           [-1, 64, 32, 32]               0\n",
            "         MaxPool2d-5           [-1, 64, 16, 16]               0\n",
            "            Conv2d-6          [-1, 128, 16, 16]          73,856\n",
            "              ReLU-7          [-1, 128, 16, 16]               0\n",
            "            Conv2d-8          [-1, 128, 16, 16]         147,584\n",
            "              ReLU-9          [-1, 128, 16, 16]               0\n",
            "        MaxPool2d-10            [-1, 128, 8, 8]               0\n",
            "           Conv2d-11            [-1, 256, 8, 8]         295,168\n",
            "             ReLU-12            [-1, 256, 8, 8]               0\n",
            "           Conv2d-13            [-1, 256, 8, 8]         590,080\n",
            "             ReLU-14            [-1, 256, 8, 8]               0\n",
            "        MaxPool2d-15            [-1, 256, 4, 4]               0\n",
            "          Flatten-16                 [-1, 4096]               0\n",
            "          Dropout-17                 [-1, 4096]               0\n",
            "           Linear-18                 [-1, 1024]       4,195,328\n",
            "             ReLU-19                 [-1, 1024]               0\n",
            "          Dropout-20                 [-1, 1024]               0\n",
            "           Linear-21                  [-1, 512]         524,800\n",
            "             ReLU-22                  [-1, 512]               0\n",
            "          Dropout-23                  [-1, 512]               0\n",
            "           Linear-24                   [-1, 10]           5,130\n",
            "================================================================\n",
            "Total params: 5,851,338\n",
            "Trainable params: 5,851,338\n",
            "Non-trainable params: 0\n",
            "----------------------------------------------------------------\n",
            "Input size (MB): 0.01\n",
            "Forward/backward pass size (MB): 3.32\n",
            "Params size (MB): 22.32\n",
            "Estimated Total Size (MB): 25.65\n",
            "----------------------------------------------------------------\n"
          ]
        }
      ],
      "source": [
        "net = Net()\n",
        "net = net.to(device)\n",
        "summary(net, (3, 32, 32))"
      ]
    },
    {
      "cell_type": "markdown",
      "metadata": {
        "id": "6kztzSB1blZ6"
      },
      "source": [
        "### III/ Training the model"
      ]
    },
    {
      "cell_type": "markdown",
      "source": [
        "##### Training Configuration"
      ],
      "metadata": {
        "id": "8YsNR4vA0kK9"
      }
    },
    {
      "cell_type": "code",
      "source": [
        "LEARNING_RATE = 0.001\n",
        "EPOCHS = 15\n",
        "\n",
        "net = Net()\n",
        "net.to(device)\n",
        "\n",
        "criterion = nn.CrossEntropyLoss()\n",
        "optimizer = optim.Adam(net.parameters(), lr=LEARNING_RATE, amsgrad=True)\n",
        "\n",
        "train_loss_list, val_loss_list, accuracy_list = [], [], []\n",
        "val_loss_min = np.Inf"
      ],
      "metadata": {
        "id": "cTfiL9C70mu0"
      },
      "execution_count": 184,
      "outputs": []
    },
    {
      "cell_type": "markdown",
      "source": [
        "##### Helper function to caculate accuracy and evaluate the model"
      ],
      "metadata": {
        "id": "--KcNcPS4oRc"
      }
    },
    {
      "cell_type": "code",
      "source": [
        "def cal_accuracy(outputs, labels):\n",
        "    predicted = torch.max(outputs.data, 1)[1]\n",
        "    return (predicted == labels).sum().item()\n",
        "\n",
        "@torch.no_grad()\n",
        "def evaluate(model, dataset_loader):\n",
        "    model.eval()\n",
        "    correct = 0.0\n",
        "    val_loss = 0.0\n",
        "    for inputs, labels in dataset_loader:\n",
        "        inputs, labels = inputs.to(device), labels.to(device)\n",
        "        outputs = model(inputs)\n",
        "        loss = criterion(outputs, labels)\n",
        "\n",
        "        val_loss += loss.item() * inputs.size(0)\n",
        "\n",
        "        correct += cal_accuracy(outputs, labels)\n",
        "    return val_loss, correct"
      ],
      "metadata": {
        "id": "Bz2z1rwExXlE"
      },
      "execution_count": 185,
      "outputs": []
    },
    {
      "cell_type": "markdown",
      "source": [
        "##### Training process"
      ],
      "metadata": {
        "id": "KaOfAyRg1FFw"
      }
    },
    {
      "cell_type": "code",
      "execution_count": 186,
      "metadata": {
        "colab": {
          "base_uri": "https://localhost:8080/"
        },
        "id": "yXUXhh_Abp12",
        "outputId": "386ba69f-379d-45d1-ac3a-981f19b2b8ba"
      },
      "outputs": [
        {
          "output_type": "stream",
          "name": "stdout",
          "text": [
            "Epoch: 1 \t Train Loss: 1.780971 \t Val loss: 1.413771 \t Val Accuracy: 0.486600 \n",
            "Epoch: 2 \t Train Loss: 1.173294 \t Val loss: 1.081831 \t Val Accuracy: 0.613800 \n",
            "Epoch: 3 \t Train Loss: 0.863451 \t Val loss: 0.876340 \t Val Accuracy: 0.703800 \n",
            "Epoch: 4 \t Train Loss: 0.669085 \t Val loss: 0.729635 \t Val Accuracy: 0.748800 \n",
            "Epoch: 5 \t Train Loss: 0.528966 \t Val loss: 0.737291 \t Val Accuracy: 0.742800 \n",
            "Epoch: 6 \t Train Loss: 0.403280 \t Val loss: 0.760187 \t Val Accuracy: 0.761600 \n",
            "Epoch: 7 \t Train Loss: 0.295304 \t Val loss: 0.803266 \t Val Accuracy: 0.756000 \n",
            "Epoch: 8 \t Train Loss: 0.209344 \t Val loss: 0.903136 \t Val Accuracy: 0.766000 \n",
            "Epoch: 9 \t Train Loss: 0.156680 \t Val loss: 1.002177 \t Val Accuracy: 0.762000 \n",
            "Epoch: 10 \t Train Loss: 0.117439 \t Val loss: 1.094507 \t Val Accuracy: 0.764400 \n",
            "Epoch: 11 \t Train Loss: 0.107967 \t Val loss: 1.130130 \t Val Accuracy: 0.763800 \n",
            "Epoch: 12 \t Train Loss: 0.079503 \t Val loss: 1.311734 \t Val Accuracy: 0.748600 \n",
            "Epoch: 13 \t Train Loss: 0.074053 \t Val loss: 1.271763 \t Val Accuracy: 0.768800 \n",
            "Epoch: 14 \t Train Loss: 0.061198 \t Val loss: 1.254241 \t Val Accuracy: 0.765400 \n",
            "Epoch: 15 \t Train Loss: 0.056029 \t Val loss: 1.390825 \t Val Accuracy: 0.767400 \n",
            "------------------------------------ Finished Training ------------------------------------\n"
          ]
        }
      ],
      "source": [
        "net.train()\n",
        "for epoch in range(EPOCHS):\n",
        "    train_loss = 0.0\n",
        "    for inputs, labels in train_loader:\n",
        "        inputs, labels = inputs.to(device), labels.to(device)\n",
        "\n",
        "        optimizer.zero_grad()\n",
        "\n",
        "        outputs = net(inputs)\n",
        "        loss = criterion(outputs, labels)\n",
        "\n",
        "        loss.backward()\n",
        "        optimizer.step()\n",
        "\n",
        "        train_loss += loss.item() * inputs.size(0)\n",
        "\n",
        "    val_loss, correct = evaluate(net, val_loader)\n",
        "\n",
        "    train_loss = train_loss / train_size\n",
        "    val_loss = val_loss / val_size\n",
        "    accuracy = correct / val_size\n",
        "\n",
        "    train_loss_list.append(train_loss)\n",
        "    val_loss_list.append(val_loss)\n",
        "    accuracy_list.append(accuracy)\n",
        "\n",
        "    print(f\"Epoch: {epoch + 1} \\t Train Loss: {train_loss:.6f} \\t Val loss: {val_loss:.6f} \\t Val Accuracy: {accuracy:.6f} \")\n",
        "\n",
        "    # only save the model when validation loss is minimum\n",
        "    if val_loss <= val_loss_min:\n",
        "        torch.save(net.state_dict(), \"cifar10-cnn.pt\")\n",
        "        val_loss_min = val_loss\n",
        "print(f\"------------------------------------ Finished Training ------------------------------------\")"
      ]
    },
    {
      "cell_type": "markdown",
      "source": [
        "### IV/ Evaluation"
      ],
      "metadata": {
        "id": "GVCHokIwoMXf"
      }
    },
    {
      "cell_type": "markdown",
      "source": [
        "##### Show the figure of accuracy vs number of epochs"
      ],
      "metadata": {
        "id": "qhVurtJDzGHK"
      }
    },
    {
      "cell_type": "code",
      "source": [
        "figure(figsize=(12, 6), dpi=80)\n",
        "plt.title(f\"Accuracy over {EPOCHS} epochs\", size=15)\n",
        "plt.xlabel(\"Epoch\")\n",
        "plt.ylabel(\"Accuracy\")\n",
        "\n",
        "plt.plot(accuracy_list, \"-bx\")\n",
        "plt.show()"
      ],
      "metadata": {
        "colab": {
          "base_uri": "https://localhost:8080/",
          "height": 0
        },
        "id": "oKH0ZHR4zZ6z",
        "outputId": "40a6761b-4e62-4b27-9091-2e2b1f5d39e7"
      },
      "execution_count": 187,
      "outputs": [
        {
          "output_type": "display_data",
          "data": {
            "text/plain": [
              "<Figure size 960x480 with 1 Axes>"
            ],
            "image/png": "[encoded data removed]"
          },
          "metadata": {}
        }
      ]
    },
    {
      "cell_type": "markdown",
      "source": [
        "##### Show the figure of loss vs number of epochs"
      ],
      "metadata": {
        "id": "2wKMMirqolYC"
      }
    },
    {
      "cell_type": "code",
      "source": [
        "figure(figsize=(12, 6), dpi=80)\n",
        "plt.title(f\"Training loss and Validation loss over {EPOCHS} epochs\", size=15)\n",
        "plt.xlabel(\"Epoch\")\n",
        "plt.ylabel(\"Loss\")\n",
        "\n",
        "plt.plot(train_loss_list,\"-bx\")\n",
        "plt.plot(val_loss_list, \"-rx\")\n",
        "plt.legend(['Training', 'Validation'])\n",
        "plt.show()"
      ],
      "metadata": {
        "colab": {
          "base_uri": "https://localhost:8080/",
          "height": 455
        },
        "id": "iAXlm7yCosdi",
        "outputId": "96985898-7c63-4798-da6e-b1a7c423a06a"
      },
      "execution_count": 188,
      "outputs": [
        {
          "output_type": "display_data",
          "data": {
            "text/plain": [
              "<Figure size 960x480 with 1 Axes>"
            ],
            "image/png": "[encoded data removed]"
          },
          "metadata": {}
        }
      ]
    },
    {
      "cell_type": "markdown",
      "source": [
        "##### Evaluate the model on test dataset"
      ],
      "metadata": {
        "id": "vo2rxT5L5Ijm"
      }
    },
    {
      "cell_type": "code",
      "source": [
        "final_model = Net()\n",
        "final_model.to(device)\n",
        "final_model.load_state_dict(torch.load(\"cifar10-cnn.pt\"))\n",
        "correct = 0\n",
        "\n",
        "_, correct = evaluate(final_model, test_loader)\n",
        "print(f\"Accuracy on test dataset {correct * 100 / test_size}%\")"
      ],
      "metadata": {
        "colab": {
          "base_uri": "https://localhost:8080/"
        },
        "id": "p3uItCTA5M-t",
        "outputId": "4a6916fe-50f4-43e9-afa3-edd7a92826b5"
      },
      "execution_count": 192,
      "outputs": [
        {
          "output_type": "stream",
          "name": "stdout",
          "text": [
            "Accuracy on test dataset 75.22%\n"
          ]
        }
      ]
    }
  ],
  "metadata": {
    "accelerator": "GPU",
    "colab": {
      "collapsed_sections": [
        "qhVurtJDzGHK"
      ],
      "provenance": []
    },
    "kernelspec": {
      "display_name": "Python 3",
      "name": "python3"
    },
    "language_info": {
      "name": "python"
    }
  },
  "nbformat": 4,
  "nbformat_minor": 0
}